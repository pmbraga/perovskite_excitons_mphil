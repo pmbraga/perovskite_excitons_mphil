{
 "cells": [
  {
   "cell_type": "code",
   "execution_count": 24,
   "metadata": {},
   "outputs": [
    {
     "data": {
      "text/plain": [
       "' ----- Based on experimental single-crystal X-ray diffraction data from:\\n\\n@ARTICLE{Du2017-ms,\\n  title     = \"Two-dimensional {lead(II}) Halide-based hybrid perovskites\\n               templated by acene alkylamines: Crystal structures, optical\\n               properties, and piezoelectricity\",\\n  author    = \"Du, Ke-Zhao and Tu, Qing and Zhang, Xu and Han, Qiwei and Liu,\\n               Jie and Zauscher, Stefan and Mitzi, David B\",\\n  abstract  = \"A series of two-dimensional (2D) hybrid organic--inorganic\\n               perovskite (HOIP) crystals, based on acene alkylamine cations\\n               (i.e., phenylmethylammonium (PMA), 2-phenylethylammonium (PEA),\\n               1-(2-naphthyl)methanammonium (NMA), and\\n               2-(2-naphthyl)ethanammonium (NEA)) and lead(II) halide (i.e.,\\n               PbX42--, X = Cl, Br, and I) frameworks, and their corresponding\\n               thin films were fabricated and examined for structure--property\\n               relationship. Several new or redetermined crystal structures are\\n               reported, including those for (NEA)2PbI4, (NEA)2PbBr4,\\n               (NMA)2PbBr4, (PMA)2PbBr4, and (PEA)2PbI4. Non-centrosymmetric\\n               structures from among these 2D HOIPs were confirmed by\\n               piezoresponse force microscopy---especially noteworthy is the\\n               structure of (PMA)2PbBr4, which was previously reported as\\n               centrosymmetric. Examination of the impact of organic cation and\\n               inorganic layer choice on the exciton absorption/emission\\n               properties, among the set of compounds considered, reveals that\\n               perovskite layer distortion (i.e., Pb--I--Pb bond angle between\\n               adjacent PbI6 octahedra) has a more global effect on the exciton\\n               properties than octahedral distortion (i.e., variation of\\n               I--Pb--I bond angles and discrepancy among Pb--I bond lengths\\n               within each PbI6 octahedron). In addition to the characteristic\\n               sharp exciton emission for each perovskite, (PMA)2PbCl4,\\n               (PEA)2PbCl4, (NMA)2PbCl4, and (PMA)2PbBr4 exhibit separate,\\n               broad ``white\\'\\' emission in the long wavelength range.\\n               Piezoelectric compounds identified from these 2D HOIPs may be\\n               considered for future piezoresponse-type energy or electronic\\n               applications.\",\\n  journal   = \"Inorg. Chem.\",\\n  publisher = \"American Chemical Society (ACS)\",\\n  volume    =  56,\\n  number    =  15,\\n  pages     = \"9291--9302\",\\n  month     =  aug,\\n  year      =  2017,\\n  language  = \"en\"\\n}\\n\\nRetrieved from: https://materials.hybrid3.duke.edu/materials/9 on Feb 10 2025\\n\\n'"
      ]
     },
     "execution_count": 24,
     "metadata": {},
     "output_type": "execute_result"
    }
   ],
   "source": [
    "''' ----- Based on experimental single-crystal X-ray diffraction data from:\n",
    "\n",
    "@ARTICLE{Du2017-ms,\n",
    "  title     = \"Two-dimensional {lead(II}) Halide-based hybrid perovskites\n",
    "               templated by acene alkylamines: Crystal structures, optical\n",
    "               properties, and piezoelectricity\",\n",
    "  author    = \"Du, Ke-Zhao and Tu, Qing and Zhang, Xu and Han, Qiwei and Liu,\n",
    "               Jie and Zauscher, Stefan and Mitzi, David B\",\n",
    "  abstract  = \"A series of two-dimensional (2D) hybrid organic--inorganic\n",
    "               perovskite (HOIP) crystals, based on acene alkylamine cations\n",
    "               (i.e., phenylmethylammonium (PMA), 2-phenylethylammonium (PEA),\n",
    "               1-(2-naphthyl)methanammonium (NMA), and\n",
    "               2-(2-naphthyl)ethanammonium (NEA)) and lead(II) halide (i.e.,\n",
    "               PbX42--, X = Cl, Br, and I) frameworks, and their corresponding\n",
    "               thin films were fabricated and examined for structure--property\n",
    "               relationship. Several new or redetermined crystal structures are\n",
    "               reported, including those for (NEA)2PbI4, (NEA)2PbBr4,\n",
    "               (NMA)2PbBr4, (PMA)2PbBr4, and (PEA)2PbI4. Non-centrosymmetric\n",
    "               structures from among these 2D HOIPs were confirmed by\n",
    "               piezoresponse force microscopy---especially noteworthy is the\n",
    "               structure of (PMA)2PbBr4, which was previously reported as\n",
    "               centrosymmetric. Examination of the impact of organic cation and\n",
    "               inorganic layer choice on the exciton absorption/emission\n",
    "               properties, among the set of compounds considered, reveals that\n",
    "               perovskite layer distortion (i.e., Pb--I--Pb bond angle between\n",
    "               adjacent PbI6 octahedra) has a more global effect on the exciton\n",
    "               properties than octahedral distortion (i.e., variation of\n",
    "               I--Pb--I bond angles and discrepancy among Pb--I bond lengths\n",
    "               within each PbI6 octahedron). In addition to the characteristic\n",
    "               sharp exciton emission for each perovskite, (PMA)2PbCl4,\n",
    "               (PEA)2PbCl4, (NMA)2PbCl4, and (PMA)2PbBr4 exhibit separate,\n",
    "               broad ``white'' emission in the long wavelength range.\n",
    "               Piezoelectric compounds identified from these 2D HOIPs may be\n",
    "               considered for future piezoresponse-type energy or electronic\n",
    "               applications.\",\n",
    "  journal   = \"Inorg. Chem.\",\n",
    "  publisher = \"American Chemical Society (ACS)\",\n",
    "  volume    =  56,\n",
    "  number    =  15,\n",
    "  pages     = \"9291--9302\",\n",
    "  month     =  aug,\n",
    "  year      =  2017,\n",
    "  language  = \"en\"\n",
    "}\n",
    "\n",
    "Retrieved from: https://materials.hybrid3.duke.edu/materials/9 on Feb 10 2025\n",
    "\n",
    "'''"
   ]
  },
  {
   "cell_type": "code",
   "execution_count": 25,
   "metadata": {},
   "outputs": [],
   "source": [
    "# ----- Required ASE packages ----- %\n",
    "\n",
    "from ase import Atoms\n",
    "from ase.cell import Cell\n",
    "from ase.visualize import view\n",
    "from ase.io import read, write\n",
    "from ase.io.trajectory import Trajectory\n"
   ]
  },
  {
   "cell_type": "code",
   "execution_count": 26,
   "metadata": {},
   "outputs": [],
   "source": [
    "# ----- Required basic packages ----- %\n",
    "\n",
    "import pandas as pd\n",
    "import numpy as np\n",
    "import matplotlib.pyplot as plt"
   ]
  },
  {
   "cell_type": "code",
   "execution_count": 27,
   "metadata": {},
   "outputs": [],
   "source": [
    "lattice_vectors = np.array([\n",
    "    [8.7389, 0, 0],\n",
    "    [0.05445893112, 8.7389, 0],\n",
    "    [3.072441898, 3.05966461, 32.70904732],\n",
    "])"
   ]
  },
  {
   "cell_type": "code",
   "execution_count": 28,
   "metadata": {},
   "outputs": [],
   "source": [
    "vacuum_layer_vectors = np.array([\n",
    "    [8.7389, 0, 0],\n",
    "    [0.05445893112, 8.7389, 0],\n",
    "    [3.072441898, 3.05966461, 32.70904732 + 40],\n",
    "])"
   ]
  },
  {
   "cell_type": "code",
   "execution_count": 29,
   "metadata": {},
   "outputs": [],
   "source": [
    "atomic_symbols = []"
   ]
  },
  {
   "cell_type": "code",
   "execution_count": 30,
   "metadata": {},
   "outputs": [],
   "source": [
    "for i in range(0, 4):\n",
    "    atomic_symbols.append('Pb')"
   ]
  },
  {
   "cell_type": "code",
   "execution_count": 31,
   "metadata": {},
   "outputs": [],
   "source": [
    "for i in range(0, 24):\n",
    "    atomic_symbols.append('I')"
   ]
  },
  {
   "cell_type": "code",
   "execution_count": 32,
   "metadata": {},
   "outputs": [],
   "source": [
    "for i in range(0, 8):\n",
    "    atomic_symbols.append('N')"
   ]
  },
  {
   "cell_type": "code",
   "execution_count": 33,
   "metadata": {},
   "outputs": [],
   "source": [
    "for i in range(0, 64):\n",
    "    atomic_symbols.append('C')"
   ]
  },
  {
   "cell_type": "code",
   "execution_count": 34,
   "metadata": {},
   "outputs": [],
   "source": [
    "for i in range(0, 97):\n",
    "    atomic_symbols.append('H')"
   ]
  },
  {
   "cell_type": "code",
   "execution_count": 35,
   "metadata": {},
   "outputs": [
    {
     "data": {
      "text/plain": [
       "'H'"
      ]
     },
     "execution_count": 35,
     "metadata": {},
     "output_type": "execute_result"
    }
   ],
   "source": [
    "atomic_symbols.pop()"
   ]
  },
  {
   "cell_type": "code",
   "execution_count": 46,
   "metadata": {},
   "outputs": [],
   "source": [
    "atomic_positions = np.array([\n",
    "\n",
    "    [0.0, 0.0, 0.0], #Pb1\n",
    "    [0.5, 0.5, 0.0], #Pb2\n",
    "    [0.5, 0.0, 0.5], #Pb3\n",
    "    [0.0, 0.5, 0.5], #Pb4\n",
    "\n",
    "    [0.691, 0.80838, 0.00093], #I1\n",
    "    [0.309, 0.19162, 0.99907], #I2\n",
    "    [0.44664, 0.47867, 0.09816], #I3\n",
    "    [0.55336, 0.52133, 0.90184], #I4\n",
    "    [0.01637, 0.01999, 0.90188], #I5\n",
    "    [0.98363, 0.98001, 0.09812], #I6\n",
    "    [0.80955, 0.80979, 0.50091], #I7\n",
    "    [0.19045, 0.19021, 0.49909], #I8\n",
    "    [0.9786, 0.44644, 0.59813], #I9\n",
    "    [0.0214, 0.55356, 0.40187], #I10\n",
    "    [0.5201, 0.0167, 0.40193], #I11\n",
    "    [0.4799, 0.9833, 0.59807], #I12\n",
    "    [0.19046, 0.69065, 0.99914], #I13\n",
    "    [0.80954, 0.30935, 0.00086], #I14\n",
    "    [0.30824, 0.69098, 0.50097], #I15\n",
    "    [0.69176, 0.30902, 0.49903], #I16\n",
    "    [0.1924, 0.8111, 0.4976], #I17\n",
    "    [0.8076, 0.1889, 0.5024], #I18\n",
    "    [0.6888, 0.6847, 0.4994], #I19\n",
    "    [0.3112, 0.3153, 0.5006], #I20\n",
    "    [0.3082, 0.8058, 0.0006], #I21\n",
    "    [0.6918, 0.1942, 0.9994], #I22\n",
    "    [0.811, 0.689, 0.9976], #I23\n",
    "    [0.189, 0.311, 0.0024], #I24\n",
    "\n",
    "    [0.9534, 0.6073, 0.9199], #N1\n",
    "    [0.0466, 0.3927, 0.0801], #N2\n",
    "    [0.6006, 0.107, 0.9186], #N3\n",
    "    [0.3994, 0.893, 0.0814], #N4\n",
    "    [0.8941, 0.0453, 0.5799], #N5\n",
    "    [0.1059, 0.9547, 0.4201], #N6\n",
    "    [0.3933, 0.3993, 0.5813], #N7\n",
    "    [0.6067, 0.6007, 0.4187], #N8\n",
    "\n",
    "    [0.0588, 0.6215, 0.8301], #C1\n",
    "    [0.9412, 0.3785, 0.1699], #C2\n",
    "    [0.5553, 0.1208, 0.8301], #C3\n",
    "    [0.4447, 0.8792, 0.1699], #C4\n",
    "    [0.4958, 0.507, 0.5988], #C5\n",
    "    [0.5042, 0.493, 0.4012], #C6\n",
    "    [0.0694, 0.4978, 0.9017], #C7\n",
    "    [0.9306, 0.5022, 0.0983], #C8\n",
    "    [0.3737, 0.438, 0.6707], #C9\n",
    "    [0.6263, 0.562, 0.3293], #C10\n",
    "    [0.8773, 0.9411, 0.6699], #C11\n",
    "    [0.1227, 0.0589, 0.3301], #C12\n",
    "    [0.3, 0.302, 0.6842], #C13\n",
    "    [0.7, 0.698, 0.3158], #C14\n",
    "    [0.5205, 0.44, 0.6424], #C15\n",
    "    [0.4795, 0.56, 0.3576], #C16\n",
    "    [0.0251, 0.959, 0.6416], #C17\n",
    "    [0.9749, 0.041, 0.3584], #C18\n",
    "    [0.175, 0.57, 0.7087], #C19\n",
    "    [0.825, 0.43, 0.2913], #C20\n",
    "    [0.664, 0.042, 0.7121], #C21\n",
    "    [0.336, 0.958, 0.2879], #C22\n",
    "    [0.496, 0.0105, 0.9014], #C23\n",
    "    [0.504, 0.9895, 0.0986], #C24\n",
    "    [0.0067, 0.9303, 0.5984], #C25\n",
    "    [0.9933, 0.0697, 0.4016], #C26\n",
    "    [0.204, 0.687, 0.8198], #C27\n",
    "    [0.796, 0.313, 0.1802], #C28\n",
    "    [0.816, 0.795, 0.6805], #C29\n",
    "    [0.184, 0.205, 0.3195], #C30\n",
    "    [0.425, 0.183, 0.8182], #C31\n",
    "    [0.575, 0.817, 0.1818], #C32\n",
    "    [0.046, 0.4763, 0.8577], #C33\n",
    "    [0.954, 0.5237, 0.1423], #C34\n",
    "    [0.931, 0.687, 0.815], #C35\n",
    "    [0.069, 0.313, 0.185], #C36\n",
    "    [0.559, 0.394, 0.7789], #C37\n",
    "    [0.441, 0.606, 0.2211], #C38\n",
    "    [0.08, 0.888, 0.7801], #C39\n",
    "    [0.92, 0.112, 0.2199], #C40\n",
    "    [0.557, 0.9772, 0.8576], #C41\n",
    "    [0.443, 0.0228, 0.1424], #C42\n",
    "    [0.698, 0.192, 0.8159], #C43\n",
    "    [0.302, 0.808, 0.1841], #C44\n",
    "    [0.315, 0.577, 0.6822], #C45\n",
    "    [0.685, 0.423, 0.3178], #C46\n",
    "    [0.694, 0.328, 0.7914], #C47\n",
    "    [0.306, 0.672, 0.2086], #C48\n",
    "    [0.428, 0.32, 0.7924], #C49\n",
    "    [0.572, 0.68, 0.2076], #C50\n",
    "    [0.111, 0.44, 0.7202], #C51\n",
    "    [0.889, 0.56, 0.2798], #C52\n",
    "    [0.805, 0.067, 0.6855], #C53\n",
    "    [0.195, 0.933, 0.3145], #C54\n",
    "    [0.167, 0.307, 0.7092], #C55\n",
    "    [0.833, 0.693, 0.2908], #C56\n",
    "    [0.609, 0.907, 0.7201], #C57\n",
    "    [0.391, 0.093, 0.2799], #C58\n",
    "    [0.676, 0.78, 0.706], #C59\n",
    "    [0.324, 0.22, 0.294], #C60 \n",
    "    [0.212, 0.825, 0.7946], #C62\n",
    "    [0.788, 0.175, 0.2054], #C62\n",
    "    [0.945, 0.823, 0.7901], #C63\n",
    "    [0.055, 0.177, 0.2099], #C64\n",
    "    \n",
    "    [0.9644, 0.6995, 0.906], #H1\n",
    "    [0.0356, 0.3005, 0.094], #H2\n",
    "    [0.9687, 0.6145, 0.9459], #H3\n",
    "    [0.0313, 0.3855, 0.0541], #H4\n",
    "    [0.8589, 0.5722, 0.9184], #H5\n",
    "    [0.1411, 0.4278, 0.0816], #H6\n",
    "    [0.5851, 0.0948, 0.9457], #H7\n",
    "    [0.4149, 0.9052, 0.0543], #H8\n",
    "    [0.5848, 0.2048, 0.9099], #H9\n",
    "    [0.4152, 0.7952, 0.0901], #H10\n",
    "    [0.6968, 0.0811, 0.9108], #H11\n",
    "    [0.3032, 0.9189, 0.0892], #H12\n",
    "    [0.8865, 0.0287, 0.5539], #H13\n",
    "    [0.1135, 0.9713, 0.4461], #H14\n",
    "    [0.9281, 0.1405, 0.581], #H15\n",
    "    [0.0719, 0.8595, 0.419], #H16\n",
    "    [0.8022, 0.0338, 0.5939], #H17\n",
    "    [0.1978, 0.9662, 0.4061], #H18\n",
    "    [0.299, 0.4028, 0.5939], #H19\n",
    "    [0.701, 0.5972, 0.4061], #H20\n",
    "    [0.4296, 0.304, 0.5847], #H21\n",
    "    [0.5704, 0.696, 0.4153], #H22\n",
    "    [0.3902, 0.4269, 0.5547], #H23\n",
    "    [0.6098, 0.5731, 0.4453], #H24\n",
    "    [0.4488, 0.6072, 0.5994], #H25\n",
    "    [0.5512, 0.3928, 0.4006], #H26\n",
    "    [0.5935, 0.517, 0.5823], #H27\n",
    "    [0.4065, 0.483, 0.4177], #H28\n",
    "    [0.061, 0.399, 0.9177], #H29\n",
    "    [0.939, 0.601, 0.0823], #H30\n",
    "    [0.1722, 0.5373, 0.9029], #H31\n",
    "    [0.8278, 0.4627, 0.0971], #H32\n",
    "    [0.3389, 0.2085, 0.6764], #H33\n",
    "    [0.6611, 0.7915, 0.3236], #H34\n",
    "    [0.5592, 0.3358, 0.6416], #H35\n",
    "    [0.4408, 0.6642, 0.3584], #H36\n",
    "    [0.5974, 0.5006, 0.6531], #H37\n",
    "    [0.4026, 0.4994, 0.3469], #H38\n",
    "    [0.0645, 0.062, 0.6419], #H39\n",
    "    [0.9355, 0.938, 0.3581], #H40\n",
    "    [0.1008, 0.8877, 0.6521], #H41\n",
    "    [0.8992, 0.1123, 0.3479], #H42\n",
    "    [0.1304, 0.6597, 0.7174], #H43\n",
    "    [0.8696, 0.3403, 0.2826], #H44\n",
    "    [0.614, 0.1248, 0.7233], #H45\n",
    "    [0.386, 0.8752, 0.2767], #H46\n",
    "    [0.3967, 0.0608, 0.9007], #H47\n",
    "    [0.6033, 0.9392, 0.0993], #H48\n",
    "    [0.4817, 0.9144, 0.9186], #H49\n",
    "    [0.5183, 0.0856, 0.0814], #H50\n",
    "    [0.969, 0.8266, 0.5976], #H51\n",
    "    [0.031, 0.1734, 0.4024], #H52\n",
    "    [0.1057, 0.9397, 0.5824], #H53\n",
    "    [0.8943, 0.0603, 0.4176], #H54\n",
    "    [0.2915, 0.6416, 0.8294], #H55\n",
    "    [0.7085, 0.3584, 0.1706], #H56\n",
    "    [0.8653, 0.7084, 0.6712], #H57\n",
    "    [0.1347, 0.2916, 0.3288], #H59\n",
    "    [0.3314, 0.1353, 0.8271], #H60\n",
    "    [0.6686, 0.8647, 0.1729], #H61\n",
    "    [0.1211, 0.4038, 0.8476], #H62\n",
    "    [0.8789, 0.5962, 0.1524], #H63\n",
    "    [0.9446, 0.4322, 0.8567], #H64\n",
    "    [0.0554, 0.5678, 0.1433], #H65\n",
    "    [0.8355, 0.6399, 0.8214], #H66\n",
    "    [0.1645, 0.3601, 0.1786], #H67\n",
    "    [0.5597, 0.4847, 0.7619], #H68\n",
    "    [0.4403, 0.5153, 0.2381], #H69\n",
    "    [0.0869, 0.9794, 0.763], #H70\n",
    "    [0.9131, 0.0206, 0.237], #H71\n",
    "    [0.661, 0.9377, 0.8576], #H72\n",
    "    [0.339, 0.0623, 0.1424], #H73\n",
    "    [0.4931, 0.9001, 0.8481], #H74\n",
    "    [0.5069, 0.0999, 0.1519], #H75\n",
    "    [0.7903, 0.1481, 0.8228], #H76\n",
    "    [0.2097, 0.8519, 0.1772], #H77\n",
    "    [0.3645, 0.6699, 0.6732], #H78\n",
    "    [0.6355, 0.3301, 0.3268], #H79\n",
    "    [0.7865, 0.3793, 0.7829], #H80\n",
    "    [0.2135, 0.6207, 0.2171], #H81\n",
    "    [0.3354, 0.3606, 0.7843], #H82\n",
    "    [0.6646, 0.6394, 0.2157], #H83\n",
    "    [0.0205, 0.4383, 0.7373], #H84\n",
    "    [0.9795, 0.5617, 0.2627], #H85\n",
    "    [0.8464, 0.1647, 0.679], #H86\n",
    "    [0.1536, 0.8353, 0.321], #H87\n",
    "    [0.1152, 0.2167, 0.7187], #H88\n",
    "    [0.8848, 0.7833, 0.2813], #H89\n",
    "    [0.5168, 0.8942, 0.7366], #H90\n",
    "    [0.4832, 0.1058, 0.2634], #H91\n",
    "    [0.6308, 0.6845, 0.713], #H92\n",
    "    [0.3692, 0.3155, 0.287], #H93\n",
    "    [0.306, 0.8732, 0.7874], #H94\n",
    "    [0.694, 0.1268, 0.2126], #H95\n",
    "    [0.8574, 0.869, 0.7802], #H96\n",
    "    [0.1426, 0.131, 0.2198], #H97\n",
    "    \n",
    "])"
   ]
  },
  {
   "cell_type": "code",
   "execution_count": 45,
   "metadata": {},
   "outputs": [],
   "source": [
    "atomic_positions = atomic_positions @ lattice_vectors"
   ]
  },
  {
   "cell_type": "code",
   "execution_count": 39,
   "metadata": {},
   "outputs": [],
   "source": [
    "atoms = Atoms(\n",
    "    symbols = atomic_symbols,\n",
    "    positions = atomic_positions,\n",
    "    cell = vacuum_layer_vectors,\n",
    "    pbc = True\n",
    ")"
   ]
  },
  {
   "cell_type": "code",
   "execution_count": 40,
   "metadata": {},
   "outputs": [],
   "source": [
    "atoms.write(\"PEA2PbI4_test.xyz\")"
   ]
  },
  {
   "cell_type": "code",
   "execution_count": 42,
   "metadata": {},
   "outputs": [],
   "source": [
    "# supercell \n",
    "\n",
    "supercell = atoms.repeat((4,4,1))"
   ]
  },
  {
   "cell_type": "code",
   "execution_count": 43,
   "metadata": {},
   "outputs": [],
   "source": [
    "supercell.write(\"supercell_(PEA)2PbI4.xyz\")"
   ]
  }
 ],
 "metadata": {
  "kernelspec": {
   "display_name": "wa_one_env",
   "language": "python",
   "name": "python3"
  },
  "language_info": {
   "codemirror_mode": {
    "name": "ipython",
    "version": 3
   },
   "file_extension": ".py",
   "mimetype": "text/x-python",
   "name": "python",
   "nbconvert_exporter": "python",
   "pygments_lexer": "ipython3",
   "version": "3.13.2"
  }
 },
 "nbformat": 4,
 "nbformat_minor": 2
}
