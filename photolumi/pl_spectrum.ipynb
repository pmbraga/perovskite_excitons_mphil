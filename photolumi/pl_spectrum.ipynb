{
 "cells": [
  {
   "cell_type": "code",
   "execution_count": 1,
   "metadata": {},
   "outputs": [],
   "source": [
    "import numpy as np\n",
    "import matplotlib.pyplot as plt\n",
    "import scipy.linalg as la"
   ]
  },
  {
   "cell_type": "code",
   "execution_count": null,
   "metadata": {},
   "outputs": [],
   "source": [
    "# --- import eigenvalues and eigenvectors calculated previously --- #"
   ]
  },
  {
   "cell_type": "code",
   "execution_count": null,
   "metadata": {},
   "outputs": [],
   "source": [
    "# --- global variables --- #\n",
    "\n",
    "hbar = 0.658 # eV fs\n",
    "m0 = 5.6856800 # fs{2] eV nm{-2} \n",
    "mu = 0.108 * m0 # eV\n",
    "\n",
    "veps0 = 5.52638e-2 # c{2} eV{-1} mum{-1}\n",
    "vepsS = 3.32 # dimless\n",
    "vepsW = 6.10 # dimless\n",
    "\n",
    "Lwell = 0.636 # nm\n",
    "r0 = Lwell * vepsW/(2*vepsS) # nm\n",
    "\n",
    "EgZero = 2.565 # zero temperature bandgap energy - meV\n",
    "n = 1.82 # refractive index of the medium\n",
    "M = 0.44 * m0 # total exciton mass\n",
    "Msigma = 8 # optical matrix element for interband transition - fs ev nm{-1}\n",
    "gammaZero = 6.7 # defect-induced line eidgth at T = 0K - meV\n",
    "\n",
    "DAC = 1.9 # deformation potential for acoustic phonons - eV\n",
    "DOP = 158 # deformation potential for optical phonons - eV\n",
    "\n",
    "cAC = 2100 # acoustic phonon charactetistic velocity - m/s\n",
    "hwOP = 35 # optical phonon scattering - meV\n",
    "\n",
    "alphaOne = # material specific constant for Varshni shift\n",
    "alphaTwo = # material specific constant for Varshni shift"
   ]
  },
  {
   "cell_type": "code",
   "execution_count": 2,
   "metadata": {},
   "outputs": [],
   "source": [
    "energies = np.linspace(2.28, 2.44, 100) # energy range for plotting photoluminesnce "
   ]
  },
  {
   "cell_type": "markdown",
   "metadata": {},
   "source": [
    "### First level"
   ]
  },
  {
   "cell_type": "code",
   "execution_count": null,
   "metadata": {},
   "outputs": [],
   "source": [
    "def BandGapEnergy(T):\n",
    "\n",
    "    return EgZero - (alphaOne * T**2)/(alphaTwo + T)"
   ]
  },
  {
   "cell_type": "code",
   "execution_count": null,
   "metadata": {},
   "outputs": [],
   "source": [
    "def BindingEnergy(level): # level as input and returns the eigenvalue for that state as calculated in the Binding Energy file"
   ]
  },
  {
   "cell_type": "code",
   "execution_count": null,
   "metadata": {},
   "outputs": [],
   "source": [
    "def ExctionResonanceEnergy(T, level):\n",
    "\n",
    "    return BandGapEnergy(T) + BindinEnergy(level)"
   ]
  },
  {
   "cell_type": "code",
   "execution_count": null,
   "metadata": {},
   "outputs": [],
   "source": [
    "def ElectronPhononCoupling():"
   ]
  },
  {
   "cell_type": "code",
   "execution_count": null,
   "metadata": {},
   "outputs": [],
   "source": [
    "def ExcitonPhononMatrix():"
   ]
  },
  {
   "cell_type": "code",
   "execution_count": null,
   "metadata": {},
   "outputs": [],
   "source": [
    "def BoseEinstein():"
   ]
  },
  {
   "cell_type": "markdown",
   "metadata": {},
   "source": [
    "### Second level"
   ]
  },
  {
   "cell_type": "code",
   "execution_count": null,
   "metadata": {},
   "outputs": [],
   "source": [
    "def NonRadiativeDephasing():"
   ]
  },
  {
   "cell_type": "code",
   "execution_count": null,
   "metadata": {},
   "outputs": [],
   "source": [
    "def RadiativeChannel():"
   ]
  },
  {
   "cell_type": "markdown",
   "metadata": {},
   "source": [
    "### Final"
   ]
  },
  {
   "cell_type": "code",
   "execution_count": null,
   "metadata": {},
   "outputs": [],
   "source": [
    "def PhotonFluxOne():"
   ]
  },
  {
   "cell_type": "code",
   "execution_count": null,
   "metadata": {},
   "outputs": [],
   "source": [
    "def PhotonFluxComplete():"
   ]
  }
 ],
 "metadata": {
  "kernelspec": {
   "display_name": "wa_two_env",
   "language": "python",
   "name": "python3"
  },
  "language_info": {
   "codemirror_mode": {
    "name": "ipython",
    "version": 3
   },
   "file_extension": ".py",
   "mimetype": "text/x-python",
   "name": "python",
   "nbconvert_exporter": "python",
   "pygments_lexer": "ipython3",
   "version": "3.13.2"
  }
 },
 "nbformat": 4,
 "nbformat_minor": 2
}
