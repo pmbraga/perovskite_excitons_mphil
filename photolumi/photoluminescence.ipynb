{
 "cells": [
  {
   "cell_type": "code",
   "execution_count": 4,
   "metadata": {},
   "outputs": [],
   "source": [
    "import numpy as np\n",
    "import pandas as pd\n",
    "import matplotlib.pyplot as plt\n",
    "import scipy.linalg as la"
   ]
  },
  {
   "cell_type": "code",
   "execution_count": 5,
   "metadata": {},
   "outputs": [],
   "source": [
    "# --- import eigenvalues and eigenvectors calculated previously --- #\n",
    "\n",
    "eigenvalues = np.loadtxt('/Users/pedrobraga/Documents/Cambridge/wa_two/repo_wa_two/excitonic_states/Eigenvalues5.txt')\n",
    "eigenvectors = np.loadtxt('/Users/pedrobraga/Documents/Cambridge/wa_two/repo_wa_two/excitonic_states/Eigenvectors5.txt')"
   ]
  },
  {
   "cell_type": "code",
   "execution_count": 55,
   "metadata": {},
   "outputs": [],
   "source": [
    "# --- global variables --- #\n",
    "\n",
    "hbar = 0.658 # eV fs\n",
    "m0 = 5.6856800 # fs2 eV/nm2\n",
    "mu = 0.108 * m0 # fs2 eV/nm2\n",
    "kb = 8.681e-5 # ev K {-1}\n",
    "\n",
    "veps0 = 5.52638e-2 # c{2} eV{-1} mum{-1}\n",
    "vepsS = 3.32 # dimless\n",
    "vepsW = 6.10 # dimless\n",
    "\n",
    "Lwell = 0.636 # nm\n",
    "A = Lwell**2 # nm{2}\n",
    "r0 = Lwell * vepsW/(2*vepsS) # nm\n",
    "\n",
    "EgZero = 2.565 # ev - zero temperature bandgap energy\n",
    "n = 1.82 # dimless - refractive index of the medium \n",
    "M = 0.44 * m0 # fs2 eV/nm2 - total exciton mass\n",
    "Msigma = 8 # fs ev nm{-1} - optical matrix element for interband transition\n",
    "GammaZero = 0.0067 # eV - defect-induced line widgth at T = 0K\n",
    "\n",
    "DAC = 1.9 # eV - deformation potential for acoustic phonons\n",
    "DOP = 158 # eV/nm - deformation potential for optical phonons\n",
    "\n",
    "cAC = 2100 # m/s - acoustic phonon charactetistic velocity\n",
    "c0 = 299.792 # nm/fs - speed of light in vacuum\n",
    "hwOP = 35 # meV - optical phonon scattering\n",
    "\n",
    "alphaOne = 1e-4 # material specific constant for Varshni shift\n",
    "alphaTwo = 340 # material specific constant for Varshni shift\n",
    "\n",
    "# --- simulation variables --- #\n",
    "\n",
    "k_max = .75\n",
    "N = 500\n",
    "dk = k_max/N\n",
    "\n",
    "k_vals = np.linspace(dk, k_max, N)\n",
    "energies = np.linspace(1, 5, 1000)"
   ]
  },
  {
   "cell_type": "code",
   "execution_count": 72,
   "metadata": {},
   "outputs": [],
   "source": [
    "def BandGapEnergy(mu):\n",
    "    return EgZero + eigenvalues[mu]\n",
    "\n",
    "def RadiativeRecom(mu, eigenvalues, eigenvectors): # Temperature independent radiactive recombination of eletrons\n",
    "\n",
    "    wavefunction = FFT(mu, eigenvectors)\n",
    "    C = (hbar**2 * Msigma**2) / (2 * m0**2 * veps0 * A * n * c0)\n",
    "\n",
    "    return C * wavefunction / eigenvalues[mu]\n",
    "\n",
    "def FFT(mu, eigenvectors): # inverse fourier transform of the amplitude of the wavefunctions\n",
    "\n",
    "    C = A * dk / (2*np.pi)\n",
    "    integral = np.sum(eigenvectors[mu][-500:] * k_vals)\n",
    "\n",
    "    return (C * integral)**2\n",
    "\n",
    "def Boltzmann(T, mu, eigenvalues):\n",
    "    Z = np.sum(np.exp(-eigenvalues/(kb*T)))\n",
    "    return np.exp(-eigenvalues[mu]/(kb*T))/Z"
   ]
  },
  {
   "cell_type": "code",
   "execution_count": 39,
   "metadata": {},
   "outputs": [],
   "source": [
    "def Photoluminescence(energy_range, T, eigenvalues, eigenvectors):\n",
    "\n",
    "    PL = []\n",
    "    C = 2 * Msigma**2 / hbar\n",
    "\n",
    "    for E in energy_range:\n",
    "        I = 0\n",
    "\n",
    "        for mu in range(len(eigenvalues)):\n",
    "\n",
    "            B = RadiativeRecom(mu, eigenvalues, eigenvectors) * Boltzmann(T, mu, eigenvalues)\n",
    "            numerator = FFT(mu, eigenvectors)\n",
    "            denominator = (BandGapEnergy(mu) - E)**2 + (RadiativeRecom(mu, eigenvalues, eigenvectors) + GammaZero)**2\n",
    "\n",
    "            I += B * numerator/denominator\n",
    "\n",
    "        PL.append(C*I)\n",
    "\n",
    "    return PL"
   ]
  },
  {
   "cell_type": "code",
   "execution_count": 84,
   "metadata": {},
   "outputs": [],
   "source": [
    "PL = Photoluminescence(energies, 1000, eigenvalues, eigenvectors)"
   ]
  },
  {
   "cell_type": "code",
   "execution_count": 85,
   "metadata": {},
   "outputs": [
    {
     "data": {
      "text/plain": [
       "(0.0, 0.5)"
      ]
     },
     "execution_count": 85,
     "metadata": {},
     "output_type": "execute_result"
    },
    {
     "data": {
      "image/png": "[encoded data removed]",
      "text/plain": [
       "<Figure size 640x480 with 1 Axes>"
      ]
     },
     "metadata": {},
     "output_type": "display_data"
    }
   ],
   "source": [
    "plt.plot(energies, PL)\n",
    "plt.xlim(2, 3)\n",
    "plt.ylim(0, 0.5)"
   ]
  },
  {
   "cell_type": "code",
   "execution_count": null,
   "metadata": {},
   "outputs": [],
   "source": []
  }
 ],
 "metadata": {
  "kernelspec": {
   "display_name": "wa_two_env",
   "language": "python",
   "name": "python3"
  },
  "language_info": {
   "codemirror_mode": {
    "name": "ipython",
    "version": 3
   },
   "file_extension": ".py",
   "mimetype": "text/x-python",
   "name": "python",
   "nbconvert_exporter": "python",
   "pygments_lexer": "ipython3",
   "version": "3.13.2"
  }
 },
 "nbformat": 4,
 "nbformat_minor": 2
}
