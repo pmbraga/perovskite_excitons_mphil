{
 "cells": [
  {
   "cell_type": "code",
   "execution_count": 50,
   "metadata": {},
   "outputs": [],
   "source": [
    "import numpy as np\n",
    "import pandas as pd\n",
    "import matplotlib.pyplot as plt\n",
    "import scipy.linalg as la"
   ]
  },
  {
   "cell_type": "code",
   "execution_count": 51,
   "metadata": {},
   "outputs": [],
   "source": [
    "# --- import eigenvalues and eigenvectors calculated previously --- #\n",
    "\n",
    "eigenvalues = np.loadtxt('/Users/pedrobraga/Documents/Cambridge/wa_two/repo_wa_two/excitonic_states/Eigenvalues5.txt')\n",
    "eigenvectors = np.loadtxt('/Users/pedrobraga/Documents/Cambridge/wa_two/repo_wa_two/excitonic_states/Eigenvectors5.txt')"
   ]
  },
  {
   "cell_type": "code",
   "execution_count": 91,
   "metadata": {},
   "outputs": [],
   "source": [
    "# --- global variables --- #\n",
    "\n",
    "hbar = 0.658 # eV fs\n",
    "m0 = 5.6856800 # fs2 eV/nm2\n",
    "mu = 0.108 * m0 # fs2 eV/nm2\n",
    "kb = 8.681e-5 # ev K {-1}\n",
    "\n",
    "veps0 = 5.52638e-2 # c{2} eV{-1} mum{-1}\n",
    "vepsS = 3.32 # dimless\n",
    "vepsW = 6.10 # dimless\n",
    "\n",
    "Lwell = 0.636 # nm\n",
    "r0 = Lwell * vepsW/(2*vepsS) # nm\n",
    "\n",
    "EgZero = 2.565 # ev - zero temperature bandgap energy\n",
    "n = 1.82 # dimless - refractive index of the medium \n",
    "M = 0.44 * m0 # fs2 eV/nm2 - total exciton mass\n",
    "Msigma = 8 # fs ev nm{-1} - optical matrix element for interband transition\n",
    "gammaZero = 0.0067 # eV - defect-induced line widgth at T = 0K\n",
    "\n",
    "DAC = 1.9 # eV - deformation potential for acoustic phonons\n",
    "DOP = 158 # eV/nm - deformation potential for optical phonons\n",
    "\n",
    "cAC = 2100 # m/s - acoustic phonon charactetistic velocity\n",
    "c0 = 299.792 # nm/fs - speed of light in vacuum\n",
    "hwOP = 35 # meV - optical phonon scattering\n",
    "\n",
    "alphaOne = 1e-4 # material specific constant for Varshni shift\n",
    "alphaTwo = 340 # material specific constant for Varshni shift\n",
    "\n",
    "# --- simulation variables --- #\n",
    "\n",
    "k_max = .75\n",
    "N = 500\n",
    "dk = k_max/N\n",
    "\n",
    "k_vals = np.linspace(dk, k_max, N)\n",
    "energies = np.linspace(-10, 10, 1000)"
   ]
  },
  {
   "cell_type": "code",
   "execution_count": 92,
   "metadata": {},
   "outputs": [],
   "source": [
    "def BandGapEnergy(T):\n",
    "    return EgZero - (alphaOne * T**2)/(alphaTwo + T)\n",
    "\n",
    "def ExcitonResonanceEnergy(T, level):\n",
    "    return eigenvalues[level] #+ BandGapEnergy(T)\n",
    "\n",
    "def IFFT(level):\n",
    "    C = dk/(2*np.pi)**0.5\n",
    "    return np.absolute(C * np.sum(eigenvectors[level]))**2\n",
    "\n",
    "def Boltzmann(T, level, eigenvalues):\n",
    "    Z = np.sum(np.exp(-eigenvalues/(kb*T)))\n",
    "    return np.exp(-eigenvalues[level]/(kb*T))/Z"
   ]
  },
  {
   "cell_type": "code",
   "execution_count": 93,
   "metadata": {},
   "outputs": [],
   "source": [
    "def RadiativeChannel(level, T):\n",
    "\n",
    "    C = hbar * Msigma**2 / (2 * m0**2 * n * veps0 * c0)\n",
    "    return C * IFFT(level) / ExcitonResonanceEnergy(T, level)"
   ]
  },
  {
   "cell_type": "code",
   "execution_count": 94,
   "metadata": {},
   "outputs": [
    {
     "name": "stdout",
     "output_type": "stream",
     "text": [
      "1.5186116656068132\n",
      "2.36957826655666\n",
      "4.092012185100468\n",
      "5.0327040239204655\n",
      "6.841864013994536\n"
     ]
    }
   ],
   "source": [
    "for i in [0,1,2,3,4]:\n",
    "\n",
    "    print(RadiativeChannel(i, 300))"
   ]
  },
  {
   "cell_type": "code",
   "execution_count": 95,
   "metadata": {},
   "outputs": [],
   "source": [
    "def Photoluminescence(energies, T, eigenvalues):\n",
    "\n",
    "    C = 2 * Msigma**2 / hbar\n",
    "    levels = range(len(eigenvalues))\n",
    "\n",
    "    I = np.zeros(len(energies))\n",
    "\n",
    "    for i in range(len(energies)):\n",
    "\n",
    "        summation = 0\n",
    "        for u in levels:\n",
    "            summation += RadiativeChannel(u, T) * Boltzmann(T, u, eigenvalues) * IFFT(u) / ((ExcitonResonanceEnergy(T, u) - energies[i])**2 + (RadiativeChannel(u, T) + gammaZero)**2)\n",
    "\n",
    "        I[i] = C * summation\n",
    "\n",
    "    return I\n"
   ]
  },
  {
   "cell_type": "code",
   "execution_count": 102,
   "metadata": {},
   "outputs": [],
   "source": [
    "PL = Photoluminescence(energies, 300, eigenvalues)"
   ]
  },
  {
   "cell_type": "code",
   "execution_count": 103,
   "metadata": {},
   "outputs": [
    {
     "data": {
      "text/plain": [
       "[<matplotlib.lines.Line2D at 0x127057890>]"
      ]
     },
     "execution_count": 103,
     "metadata": {},
     "output_type": "execute_result"
    },
    {
     "data": {
      "image/png": "[encoded data removed]",
      "text/plain": [
       "<Figure size 640x480 with 1 Axes>"
      ]
     },
     "metadata": {},
     "output_type": "display_data"
    }
   ],
   "source": [
    "plt.plot(energies, PL)"
   ]
  },
  {
   "cell_type": "code",
   "execution_count": null,
   "metadata": {},
   "outputs": [],
   "source": []
  },
  {
   "cell_type": "code",
   "execution_count": null,
   "metadata": {},
   "outputs": [],
   "source": []
  }
 ],
 "metadata": {
  "kernelspec": {
   "display_name": "wa_two_env",
   "language": "python",
   "name": "python3"
  },
  "language_info": {
   "codemirror_mode": {
    "name": "ipython",
    "version": 3
   },
   "file_extension": ".py",
   "mimetype": "text/x-python",
   "name": "python",
   "nbconvert_exporter": "python",
   "pygments_lexer": "ipython3",
   "version": "3.13.2"
  }
 },
 "nbformat": 4,
 "nbformat_minor": 2
}
