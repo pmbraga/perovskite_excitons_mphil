{
 "cells": [
  {
   "cell_type": "code",
   "execution_count": 1,
   "metadata": {},
   "outputs": [],
   "source": [
    "import numpy as np\n",
    "import matplotlib.pyplot as plt"
   ]
  },
  {
   "cell_type": "code",
   "execution_count": 18,
   "metadata": {},
   "outputs": [],
   "source": [
    "scalling_fac = 1\n",
    "N = 501\n",
    "\n",
    "i_vals = np.arange(1, N)\n",
    "x_vals = np.cos(2 * (i_vals - 1) * np.pi / (2* (N-1)))"
   ]
  },
  {
   "cell_type": "code",
   "execution_count": 4,
   "metadata": {},
   "outputs": [],
   "source": [
    "def func_x()"
   ]
  },
  {
   "cell_type": "code",
   "execution_count": 5,
   "metadata": {},
   "outputs": [],
   "source": [
    "def f(t): # weight function\n",
    "    return (1-t**3) / (1+t)"
   ]
  },
  {
   "cell_type": "code",
   "execution_count": 20,
   "metadata": {},
   "outputs": [],
   "source": [
    "def T(i, N, m): # Chebyshev polynomials of the first kind\n",
    "\n",
    "    return np.cos(m * 2 * (i - 1) * np.pi / (2* (N-1)))"
   ]
  },
  {
   "cell_type": "code",
   "execution_count": 21,
   "metadata": {},
   "outputs": [],
   "source": [
    "def Lambda(k, x):\n",
    "\n",
    "    L0 = np.log10(np.abs(1+x/1-x))\n",
    "    L1 = -2 + x*L0\n",
    "\n",
    "    return 2*x*Lambda(x, k-1) - Lambda(x, k-2) + ( (2 * (1 + np.cos((k-1)*np.pi))) / ((k-1)**2 - 1) )"
   ]
  },
  {
   "cell_type": "code",
   "execution_count": 22,
   "metadata": {},
   "outputs": [],
   "source": [
    "def kernel_integral(x, l, m):\n",
    "\n",
    "    B = 0\n",
    "\n",
    "    for i in range(100):\n",
    "        B += b(x) * (Lambda(j+m, x) + Lambda(np.absolute(j-m), x))\n",
    "\n",
    "    return 0.5 * B"
   ]
  },
  {
   "cell_type": "code",
   "execution_count": null,
   "metadata": {},
   "outputs": [],
   "source": [
    "def RytovaKeldysh(ki, kj):\n",
    "    "
   ]
  }
 ],
 "metadata": {
  "kernelspec": {
   "display_name": "wa_two_env",
   "language": "python",
   "name": "python3"
  },
  "language_info": {
   "codemirror_mode": {
    "name": "ipython",
    "version": 3
   },
   "file_extension": ".py",
   "mimetype": "text/x-python",
   "name": "python",
   "nbconvert_exporter": "python",
   "pygments_lexer": "ipython3",
   "version": "3.13.2"
  }
 },
 "nbformat": 4,
 "nbformat_minor": 2
}
