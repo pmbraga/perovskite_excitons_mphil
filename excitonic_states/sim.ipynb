{
 "cells": [
  {
   "cell_type": "markdown",
   "metadata": {},
   "source": [
    "P. 34 has how to solve the Wannier equation"
   ]
  },
  {
   "cell_type": "code",
   "execution_count": 1,
   "metadata": {},
   "outputs": [],
   "source": [
    "import numpy as np\n",
    "import pandas as pd\n",
    "import matplotlib.pyplot as plt"
   ]
  },
  {
   "cell_type": "code",
   "execution_count": 6,
   "metadata": {},
   "outputs": [],
   "source": [
    "# units and variables\n",
    "\n",
    "e0 = 1\n",
    "varepsilon_s = 3.32\n",
    "varepsilon_well = 6.1\n",
    "m0 = 510998.95069 # eV\n",
    "mu = 0.108 * m0 # eV\n",
    "Lwell = 0.636 # nm\n",
    "\n",
    "hbar = 0.658211957 # ev fs\n",
    "\n",
    "r0 = Lwell * (varepsilon_well/2*varepsilon_s)\n"
   ]
  },
  {
   "cell_type": "code",
   "execution_count": 7,
   "metadata": {},
   "outputs": [],
   "source": [
    "# Rytova-Keldysh potential\n",
    "\n",
    "def RKpotential(k):\n",
    "\n",
    "    denominator = 2 * varepsilon_s * Lwell**2 * k * (1 + r0 * np.absolute(k))\n",
    "\n",
    "    return e0**2 / denominator"
   ]
  },
  {
   "cell_type": "code",
   "execution_count": 3,
   "metadata": {},
   "outputs": [],
   "source": [
    "# Wannier equation"
   ]
  },
  {
   "cell_type": "code",
   "execution_count": null,
   "metadata": {},
   "outputs": [],
   "source": []
  }
 ],
 "metadata": {
  "kernelspec": {
   "display_name": "wa_two_env",
   "language": "python",
   "name": "python3"
  },
  "language_info": {
   "codemirror_mode": {
    "name": "ipython",
    "version": 3
   },
   "file_extension": ".py",
   "mimetype": "text/x-python",
   "name": "python",
   "nbconvert_exporter": "python",
   "pygments_lexer": "ipython3",
   "version": "3.13.2"
  }
 },
 "nbformat": 4,
 "nbformat_minor": 2
}
